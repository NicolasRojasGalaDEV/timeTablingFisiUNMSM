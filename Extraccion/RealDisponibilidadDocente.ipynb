{
 "cells": [
  {
   "cell_type": "markdown",
   "id": "2e9fe00f",
   "metadata": {},
   "source": [
    "Load Excel file"
   ]
  },
  {
   "cell_type": "code",
   "execution_count": 93,
   "id": "a1e0a6dd",
   "metadata": {},
   "outputs": [],
   "source": [
    "import pandas as pd"
   ]
  },
  {
   "cell_type": "code",
   "execution_count": 94,
   "id": "31bf23d8",
   "metadata": {},
   "outputs": [],
   "source": [
    "PATH=\"C:\\\\Users\\\\nicol\\\\OneDrive\\\\Documentos\\\\GitHub\\\\timeTablingFisiUNMSM\\\\Contexto\\\\\""
   ]
  },
  {
   "cell_type": "code",
   "execution_count": 95,
   "id": "c16d2060",
   "metadata": {},
   "outputs": [],
   "source": [
    "xls = pd.ExcelFile(PATH+\"FORMATO MODELO DISPONIBILIDAD 2.xlsx\")\n",
    "df = xls.parse(\"Table 1\", skiprows=8)"
   ]
  },
  {
   "cell_type": "code",
   "execution_count": 96,
   "id": "b4412e46",
   "metadata": {},
   "outputs": [
    {
     "data": {
      "text/html": [
       "<div>\n",
       "<style scoped>\n",
       "    .dataframe tbody tr th:only-of-type {\n",
       "        vertical-align: middle;\n",
       "    }\n",
       "\n",
       "    .dataframe tbody tr th {\n",
       "        vertical-align: top;\n",
       "    }\n",
       "\n",
       "    .dataframe thead th {\n",
       "        text-align: right;\n",
       "    }\n",
       "</style>\n",
       "<table border=\"1\" class=\"dataframe\">\n",
       "  <thead>\n",
       "    <tr style=\"text-align: right;\">\n",
       "      <th></th>\n",
       "      <th>HORA</th>\n",
       "      <th>Lun</th>\n",
       "      <th>Mar</th>\n",
       "      <th>Mie</th>\n",
       "      <th>Jue</th>\n",
       "      <th>Vie</th>\n",
       "      <th>Sab</th>\n",
       "      <th>Dom</th>\n",
       "    </tr>\n",
       "  </thead>\n",
       "  <tbody>\n",
       "    <tr>\n",
       "      <th>0</th>\n",
       "      <td>8</td>\n",
       "      <td>NaN</td>\n",
       "      <td>NaN</td>\n",
       "      <td>NaN</td>\n",
       "      <td>NaN</td>\n",
       "      <td>NaN</td>\n",
       "      <td>NaN</td>\n",
       "      <td>NaN</td>\n",
       "    </tr>\n",
       "    <tr>\n",
       "      <th>1</th>\n",
       "      <td>9</td>\n",
       "      <td>NaN</td>\n",
       "      <td>NaN</td>\n",
       "      <td>NaN</td>\n",
       "      <td>NaN</td>\n",
       "      <td>NaN</td>\n",
       "      <td>NaN</td>\n",
       "      <td>NaN</td>\n",
       "    </tr>\n",
       "    <tr>\n",
       "      <th>2</th>\n",
       "      <td>10</td>\n",
       "      <td>NaN</td>\n",
       "      <td>NaN</td>\n",
       "      <td>NaN</td>\n",
       "      <td>NaN</td>\n",
       "      <td>NaN</td>\n",
       "      <td>NaN</td>\n",
       "      <td>NaN</td>\n",
       "    </tr>\n",
       "    <tr>\n",
       "      <th>3</th>\n",
       "      <td>11</td>\n",
       "      <td>NaN</td>\n",
       "      <td>NaN</td>\n",
       "      <td>NaN</td>\n",
       "      <td>NaN</td>\n",
       "      <td>NaN</td>\n",
       "      <td>NaN</td>\n",
       "      <td>NaN</td>\n",
       "    </tr>\n",
       "    <tr>\n",
       "      <th>4</th>\n",
       "      <td>12</td>\n",
       "      <td>NaN</td>\n",
       "      <td>NaN</td>\n",
       "      <td>NaN</td>\n",
       "      <td>NaN</td>\n",
       "      <td>NaN</td>\n",
       "      <td>NaN</td>\n",
       "      <td>NaN</td>\n",
       "    </tr>\n",
       "    <tr>\n",
       "      <th>5</th>\n",
       "      <td>13</td>\n",
       "      <td>NaN</td>\n",
       "      <td>NaN</td>\n",
       "      <td>NaN</td>\n",
       "      <td>NaN</td>\n",
       "      <td>NaN</td>\n",
       "      <td>NaN</td>\n",
       "      <td>NaN</td>\n",
       "    </tr>\n",
       "    <tr>\n",
       "      <th>6</th>\n",
       "      <td>14</td>\n",
       "      <td>X</td>\n",
       "      <td>X</td>\n",
       "      <td>X</td>\n",
       "      <td>X</td>\n",
       "      <td>X</td>\n",
       "      <td>NaN</td>\n",
       "      <td>NaN</td>\n",
       "    </tr>\n",
       "    <tr>\n",
       "      <th>7</th>\n",
       "      <td>15</td>\n",
       "      <td>X</td>\n",
       "      <td>X</td>\n",
       "      <td>X</td>\n",
       "      <td>X</td>\n",
       "      <td>X</td>\n",
       "      <td>NaN</td>\n",
       "      <td>NaN</td>\n",
       "    </tr>\n",
       "    <tr>\n",
       "      <th>8</th>\n",
       "      <td>16</td>\n",
       "      <td>X</td>\n",
       "      <td>X</td>\n",
       "      <td>X</td>\n",
       "      <td>X</td>\n",
       "      <td>X</td>\n",
       "      <td>NaN</td>\n",
       "      <td>NaN</td>\n",
       "    </tr>\n",
       "    <tr>\n",
       "      <th>9</th>\n",
       "      <td>17</td>\n",
       "      <td>X</td>\n",
       "      <td>X</td>\n",
       "      <td>X</td>\n",
       "      <td>X</td>\n",
       "      <td>X</td>\n",
       "      <td>NaN</td>\n",
       "      <td>NaN</td>\n",
       "    </tr>\n",
       "    <tr>\n",
       "      <th>10</th>\n",
       "      <td>18</td>\n",
       "      <td>X</td>\n",
       "      <td>X</td>\n",
       "      <td>X</td>\n",
       "      <td>X</td>\n",
       "      <td>X</td>\n",
       "      <td>NaN</td>\n",
       "      <td>NaN</td>\n",
       "    </tr>\n",
       "    <tr>\n",
       "      <th>11</th>\n",
       "      <td>19</td>\n",
       "      <td>X</td>\n",
       "      <td>X</td>\n",
       "      <td>X</td>\n",
       "      <td>X</td>\n",
       "      <td>X</td>\n",
       "      <td>NaN</td>\n",
       "      <td>NaN</td>\n",
       "    </tr>\n",
       "    <tr>\n",
       "      <th>12</th>\n",
       "      <td>20</td>\n",
       "      <td>X</td>\n",
       "      <td>X</td>\n",
       "      <td>X</td>\n",
       "      <td>X</td>\n",
       "      <td>X</td>\n",
       "      <td>NaN</td>\n",
       "      <td>NaN</td>\n",
       "    </tr>\n",
       "    <tr>\n",
       "      <th>13</th>\n",
       "      <td>21</td>\n",
       "      <td>X</td>\n",
       "      <td>X</td>\n",
       "      <td>X</td>\n",
       "      <td>X</td>\n",
       "      <td>X</td>\n",
       "      <td>NaN</td>\n",
       "      <td>NaN</td>\n",
       "    </tr>\n",
       "    <tr>\n",
       "      <th>14</th>\n",
       "      <td>NaN</td>\n",
       "      <td>NaN</td>\n",
       "      <td>NaN</td>\n",
       "      <td>NaN</td>\n",
       "      <td>NaN</td>\n",
       "      <td>NaN</td>\n",
       "      <td>NaN</td>\n",
       "      <td>NaN</td>\n",
       "    </tr>\n",
       "    <tr>\n",
       "      <th>15</th>\n",
       "      <td>2. CURSOS DE SU PREFERENCIA</td>\n",
       "      <td>NaN</td>\n",
       "      <td>NaN</td>\n",
       "      <td>NaN</td>\n",
       "      <td>NaN</td>\n",
       "      <td>NaN</td>\n",
       "      <td>NaN</td>\n",
       "      <td>NaN</td>\n",
       "    </tr>\n",
       "    <tr>\n",
       "      <th>16</th>\n",
       "      <td>Curso</td>\n",
       "      <td>NaN</td>\n",
       "      <td>NaN</td>\n",
       "      <td>NaN</td>\n",
       "      <td>NaN</td>\n",
       "      <td>Escuela</td>\n",
       "      <td>NaN</td>\n",
       "      <td>NaN</td>\n",
       "    </tr>\n",
       "    <tr>\n",
       "      <th>17</th>\n",
       "      <td>METODOLOGIA DE LA ELABORACIÒN DE LA TESIS</td>\n",
       "      <td>NaN</td>\n",
       "      <td>NaN</td>\n",
       "      <td>NaN</td>\n",
       "      <td>NaN</td>\n",
       "      <td>EP. SISTEMAS</td>\n",
       "      <td>NaN</td>\n",
       "      <td>NaN</td>\n",
       "    </tr>\n",
       "    <tr>\n",
       "      <th>18</th>\n",
       "      <td>MATEMATICA DISCRETA</td>\n",
       "      <td>NaN</td>\n",
       "      <td>NaN</td>\n",
       "      <td>NaN</td>\n",
       "      <td>NaN</td>\n",
       "      <td>EP. SISTEMAS</td>\n",
       "      <td>NaN</td>\n",
       "      <td>NaN</td>\n",
       "    </tr>\n",
       "    <tr>\n",
       "      <th>19</th>\n",
       "      <td>MATEMATICA DISCRETA</td>\n",
       "      <td>NaN</td>\n",
       "      <td>NaN</td>\n",
       "      <td>NaN</td>\n",
       "      <td>NaN</td>\n",
       "      <td>EP.SOFTWARE</td>\n",
       "      <td>NaN</td>\n",
       "      <td>NaN</td>\n",
       "    </tr>\n",
       "    <tr>\n",
       "      <th>20</th>\n",
       "      <td>ESTRUCTURAS  DISCRETAS</td>\n",
       "      <td>NaN</td>\n",
       "      <td>NaN</td>\n",
       "      <td>NaN</td>\n",
       "      <td>NaN</td>\n",
       "      <td>EP. CIENCIA DE LA COMPUTACIÓN</td>\n",
       "      <td>NaN</td>\n",
       "      <td>NaN</td>\n",
       "    </tr>\n",
       "  </tbody>\n",
       "</table>\n",
       "</div>"
      ],
      "text/plain": [
       "                                         HORA  Lun  Mar  Mie  Jue  \\\n",
       "0                                           8  NaN  NaN  NaN  NaN   \n",
       "1                                           9  NaN  NaN  NaN  NaN   \n",
       "2                                          10  NaN  NaN  NaN  NaN   \n",
       "3                                          11  NaN  NaN  NaN  NaN   \n",
       "4                                          12  NaN  NaN  NaN  NaN   \n",
       "5                                          13  NaN  NaN  NaN  NaN   \n",
       "6                                          14    X    X    X    X   \n",
       "7                                          15    X    X    X    X   \n",
       "8                                          16    X    X    X    X   \n",
       "9                                          17    X    X    X    X   \n",
       "10                                         18    X    X    X    X   \n",
       "11                                         19    X    X    X    X   \n",
       "12                                         20    X    X    X    X   \n",
       "13                                         21    X    X    X    X   \n",
       "14                                        NaN  NaN  NaN  NaN  NaN   \n",
       "15                2. CURSOS DE SU PREFERENCIA  NaN  NaN  NaN  NaN   \n",
       "16                                      Curso  NaN  NaN  NaN  NaN   \n",
       "17  METODOLOGIA DE LA ELABORACIÒN DE LA TESIS  NaN  NaN  NaN  NaN   \n",
       "18                        MATEMATICA DISCRETA  NaN  NaN  NaN  NaN   \n",
       "19                        MATEMATICA DISCRETA  NaN  NaN  NaN  NaN   \n",
       "20                     ESTRUCTURAS  DISCRETAS  NaN  NaN  NaN  NaN   \n",
       "\n",
       "                              Vie  Sab  Dom  \n",
       "0                             NaN  NaN  NaN  \n",
       "1                             NaN  NaN  NaN  \n",
       "2                             NaN  NaN  NaN  \n",
       "3                             NaN  NaN  NaN  \n",
       "4                             NaN  NaN  NaN  \n",
       "5                             NaN  NaN  NaN  \n",
       "6                               X  NaN  NaN  \n",
       "7                               X  NaN  NaN  \n",
       "8                               X  NaN  NaN  \n",
       "9                               X  NaN  NaN  \n",
       "10                              X  NaN  NaN  \n",
       "11                              X  NaN  NaN  \n",
       "12                              X  NaN  NaN  \n",
       "13                              X  NaN  NaN  \n",
       "14                            NaN  NaN  NaN  \n",
       "15                            NaN  NaN  NaN  \n",
       "16                        Escuela  NaN  NaN  \n",
       "17                   EP. SISTEMAS  NaN  NaN  \n",
       "18                   EP. SISTEMAS  NaN  NaN  \n",
       "19                    EP.SOFTWARE  NaN  NaN  \n",
       "20  EP. CIENCIA DE LA COMPUTACIÓN  NaN  NaN  "
      ]
     },
     "execution_count": 96,
     "metadata": {},
     "output_type": "execute_result"
    }
   ],
   "source": [
    "df"
   ]
  },
  {
   "cell_type": "markdown",
   "id": "4591fcbb",
   "metadata": {},
   "source": [
    "Set expected column names"
   ]
  },
  {
   "cell_type": "code",
   "execution_count": 97,
   "id": "d1d58543",
   "metadata": {},
   "outputs": [],
   "source": [
    "df.columns = ['HOUR', 'Lun', 'Mar', 'Mie', 'Jue', 'Vie', 'Sab', 'Dom']"
   ]
  },
  {
   "cell_type": "markdown",
   "id": "1644654f",
   "metadata": {},
   "source": [
    "Convert HOUR safely to integers"
   ]
  },
  {
   "cell_type": "code",
   "execution_count": 98,
   "id": "9df92445",
   "metadata": {},
   "outputs": [
    {
     "name": "stderr",
     "output_type": "stream",
     "text": [
      "C:\\Users\\nicol\\AppData\\Local\\Temp\\ipykernel_6872\\2544343130.py:3: SettingWithCopyWarning: \n",
      "A value is trying to be set on a copy of a slice from a DataFrame.\n",
      "Try using .loc[row_indexer,col_indexer] = value instead\n",
      "\n",
      "See the caveats in the documentation: https://pandas.pydata.org/pandas-docs/stable/user_guide/indexing.html#returning-a-view-versus-a-copy\n",
      "  df['HOUR'] = df['HOUR'].astype(int)\n"
     ]
    }
   ],
   "source": [
    "df['HOUR'] = pd.to_numeric(df['HOUR'], errors='coerce')\n",
    "df = df[df['HOUR'].notna()]\n",
    "df['HOUR'] = df['HOUR'].astype(int)\n"
   ]
  },
  {
   "cell_type": "markdown",
   "id": "900256cd",
   "metadata": {},
   "source": [
    "Keep only hours from 8 to 21"
   ]
  },
  {
   "cell_type": "code",
   "execution_count": 99,
   "id": "be5004c7",
   "metadata": {},
   "outputs": [],
   "source": [
    "df = df[df['HOUR'].between(8, 22)]\n"
   ]
  },
  {
   "cell_type": "markdown",
   "id": "ce7afa67",
   "metadata": {},
   "source": [
    "Days to extract"
   ]
  },
  {
   "cell_type": "code",
   "execution_count": 100,
   "id": "2dbdbe66",
   "metadata": {},
   "outputs": [],
   "source": [
    "days = ['Lun', 'Mar', 'Mie', 'Jue', 'Vie', 'Sab', 'Dom']"
   ]
  },
  {
   "cell_type": "markdown",
   "id": "7c0ab361",
   "metadata": {},
   "source": [
    "Convert hour number to readable format"
   ]
  },
  {
   "cell_type": "code",
   "execution_count": 101,
   "id": "84380c35",
   "metadata": {},
   "outputs": [],
   "source": [
    "def to_ampm(h):\n",
    "    return f\"{(h-1)%12+1}{'am' if h < 12 else 'pm'}\""
   ]
  },
  {
   "cell_type": "markdown",
   "id": "d399afe6",
   "metadata": {},
   "source": [
    "Group continuous ranges"
   ]
  },
  {
   "cell_type": "code",
   "execution_count": 102,
   "id": "ad416b1c",
   "metadata": {},
   "outputs": [],
   "source": [
    "def group_ranges(hours):\n",
    "    hours = sorted(set(hours))\n",
    "    ranges = []\n",
    "    start = prev = hours[0]\n",
    "\n",
    "    for h in hours[1:]:\n",
    "        if h == prev + 1:\n",
    "            prev = h\n",
    "        else:\n",
    "            ranges.append((start, prev))\n",
    "            start = prev = h\n",
    "    ranges.append((start, prev))\n",
    "    return [f\"{to_ampm(s)} to {to_ampm(e+1)}\" if s != e else f\"{to_ampm(s)} to {to_ampm(s+1)}\" for s, e in ranges]\n"
   ]
  },
  {
   "cell_type": "markdown",
   "id": "c7ff61cc",
   "metadata": {},
   "source": [
    "Extract and group availability"
   ]
  },
  {
   "cell_type": "code",
   "execution_count": 103,
   "id": "df4f36c6",
   "metadata": {},
   "outputs": [],
   "source": [
    "grouped_availability = []\n",
    "\n",
    "for day in days:\n",
    "    available_hours = [\n",
    "        row['HOUR'] for _, row in df.iterrows()\n",
    "        if str(row[day]).strip().upper() == 'X'\n",
    "    ]\n",
    "    if available_hours:\n",
    "        time_ranges = group_ranges(available_hours)\n",
    "        for r in time_ranges:\n",
    "            grouped_availability.append({\n",
    "                \"day\": day,\n",
    "                \"time_range\": r\n",
    "            })\n"
   ]
  },
  {
   "cell_type": "markdown",
   "id": "864b5ec3",
   "metadata": {},
   "source": [
    "Output to JSON"
   ]
  },
  {
   "cell_type": "code",
   "execution_count": 104,
   "id": "a4db3f89",
   "metadata": {},
   "outputs": [
    {
     "name": "stdout",
     "output_type": "stream",
     "text": [
      "✅ Grouped availability saved to grouped_availability.csv\n"
     ]
    }
   ],
   "source": [
    "# Convertir la lista de diccionarios a DataFrame\n",
    "df_availability = pd.DataFrame(grouped_availability)\n",
    "\n",
    "# Guardar como CSV\n",
    "df_availability.to_csv(\"grouped_availability2.csv\",sep=\";\", index=False, encoding=\"utf-8\")\n",
    "\n",
    "print(\"✅ Grouped availability saved to grouped_availability.csv\")"
   ]
  }
 ],
 "metadata": {
  "kernelspec": {
   "display_name": "base",
   "language": "python",
   "name": "python3"
  },
  "language_info": {
   "codemirror_mode": {
    "name": "ipython",
    "version": 3
   },
   "file_extension": ".py",
   "mimetype": "text/x-python",
   "name": "python",
   "nbconvert_exporter": "python",
   "pygments_lexer": "ipython3",
   "version": "3.13.5"
  }
 },
 "nbformat": 4,
 "nbformat_minor": 5
}
