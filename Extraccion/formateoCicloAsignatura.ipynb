{
 "cells": [
  {
   "cell_type": "code",
   "execution_count": 9,
   "id": "46dc7465",
   "metadata": {},
   "outputs": [],
   "source": [
    "import pandas as pd"
   ]
  },
  {
   "cell_type": "code",
   "execution_count": 10,
   "id": "2ef7c5e8",
   "metadata": {},
   "outputs": [
    {
     "data": {
      "text/html": [
       "<div>\n",
       "<style scoped>\n",
       "    .dataframe tbody tr th:only-of-type {\n",
       "        vertical-align: middle;\n",
       "    }\n",
       "\n",
       "    .dataframe tbody tr th {\n",
       "        vertical-align: top;\n",
       "    }\n",
       "\n",
       "    .dataframe thead th {\n",
       "        text-align: right;\n",
       "    }\n",
       "</style>\n",
       "<table border=\"1\" class=\"dataframe\">\n",
       "  <thead>\n",
       "    <tr style=\"text-align: right;\">\n",
       "      <th></th>\n",
       "      <th>Ciclo</th>\n",
       "      <th>Asignatura</th>\n",
       "    </tr>\n",
       "  </thead>\n",
       "  <tbody>\n",
       "    <tr>\n",
       "      <th>0</th>\n",
       "      <td>1</td>\n",
       "      <td>INE001 - PROCESO CULTURAL ANDINO</td>\n",
       "    </tr>\n",
       "    <tr>\n",
       "      <th>1</th>\n",
       "      <td>1</td>\n",
       "      <td>INE002 - PROGRAMACIÓN Y COMPUTACIÓN</td>\n",
       "    </tr>\n",
       "    <tr>\n",
       "      <th>2</th>\n",
       "      <td>1</td>\n",
       "      <td>INE003 - DIBUJO TÉCNICO</td>\n",
       "    </tr>\n",
       "    <tr>\n",
       "      <th>3</th>\n",
       "      <td>1</td>\n",
       "      <td>INE004 - INGLÉS PARA ESCRITURA ACADÉMICA</td>\n",
       "    </tr>\n",
       "    <tr>\n",
       "      <th>4</th>\n",
       "      <td>1</td>\n",
       "      <td>INE005 - MATLAB</td>\n",
       "    </tr>\n",
       "  </tbody>\n",
       "</table>\n",
       "</div>"
      ],
      "text/plain": [
       "   Ciclo                                Asignatura\n",
       "0      1          INE001 - PROCESO CULTURAL ANDINO\n",
       "1      1       INE002 - PROGRAMACIÓN Y COMPUTACIÓN\n",
       "2      1                   INE003 - DIBUJO TÉCNICO\n",
       "3      1  INE004 - INGLÉS PARA ESCRITURA ACADÉMICA\n",
       "4      1                           INE005 - MATLAB"
      ]
     },
     "execution_count": 10,
     "metadata": {},
     "output_type": "execute_result"
    }
   ],
   "source": [
    "df=pd.read_csv(\"..\\\\Data\\\\Origen\\\\ciclo_asignatura.csv\",sep=\";\",encoding=\"utf-8-sig\")\n",
    "df.head()"
   ]
  },
  {
   "cell_type": "code",
   "execution_count": 11,
   "id": "30ea395d",
   "metadata": {},
   "outputs": [
    {
     "data": {
      "text/html": [
       "<div>\n",
       "<style scoped>\n",
       "    .dataframe tbody tr th:only-of-type {\n",
       "        vertical-align: middle;\n",
       "    }\n",
       "\n",
       "    .dataframe tbody tr th {\n",
       "        vertical-align: top;\n",
       "    }\n",
       "\n",
       "    .dataframe thead th {\n",
       "        text-align: right;\n",
       "    }\n",
       "</style>\n",
       "<table border=\"1\" class=\"dataframe\">\n",
       "  <thead>\n",
       "    <tr style=\"text-align: right;\">\n",
       "      <th></th>\n",
       "      <th>Ciclo</th>\n",
       "      <th>Asignatura</th>\n",
       "      <th>CodAsignatura</th>\n",
       "      <th>NomAsignatura</th>\n",
       "    </tr>\n",
       "  </thead>\n",
       "  <tbody>\n",
       "    <tr>\n",
       "      <th>0</th>\n",
       "      <td>1</td>\n",
       "      <td>INE001 - PROCESO CULTURAL ANDINO</td>\n",
       "      <td>INE001</td>\n",
       "      <td>PROCESO CULTURAL ANDINO</td>\n",
       "    </tr>\n",
       "    <tr>\n",
       "      <th>1</th>\n",
       "      <td>1</td>\n",
       "      <td>INE002 - PROGRAMACIÓN Y COMPUTACIÓN</td>\n",
       "      <td>INE002</td>\n",
       "      <td>PROGRAMACIÓN Y COMPUTACIÓN</td>\n",
       "    </tr>\n",
       "    <tr>\n",
       "      <th>2</th>\n",
       "      <td>1</td>\n",
       "      <td>INE003 - DIBUJO TÉCNICO</td>\n",
       "      <td>INE003</td>\n",
       "      <td>DIBUJO TÉCNICO</td>\n",
       "    </tr>\n",
       "    <tr>\n",
       "      <th>3</th>\n",
       "      <td>1</td>\n",
       "      <td>INE004 - INGLÉS PARA ESCRITURA ACADÉMICA</td>\n",
       "      <td>INE004</td>\n",
       "      <td>INGLÉS PARA ESCRITURA ACADÉMICA</td>\n",
       "    </tr>\n",
       "    <tr>\n",
       "      <th>4</th>\n",
       "      <td>1</td>\n",
       "      <td>INE005 - MATLAB</td>\n",
       "      <td>INE005</td>\n",
       "      <td>MATLAB</td>\n",
       "    </tr>\n",
       "  </tbody>\n",
       "</table>\n",
       "</div>"
      ],
      "text/plain": [
       "   Ciclo                                Asignatura CodAsignatura  \\\n",
       "0      1          INE001 - PROCESO CULTURAL ANDINO        INE001   \n",
       "1      1       INE002 - PROGRAMACIÓN Y COMPUTACIÓN        INE002   \n",
       "2      1                   INE003 - DIBUJO TÉCNICO        INE003   \n",
       "3      1  INE004 - INGLÉS PARA ESCRITURA ACADÉMICA        INE004   \n",
       "4      1                           INE005 - MATLAB        INE005   \n",
       "\n",
       "                     NomAsignatura  \n",
       "0          PROCESO CULTURAL ANDINO  \n",
       "1       PROGRAMACIÓN Y COMPUTACIÓN  \n",
       "2                   DIBUJO TÉCNICO  \n",
       "3  INGLÉS PARA ESCRITURA ACADÉMICA  \n",
       "4                           MATLAB  "
      ]
     },
     "execution_count": 11,
     "metadata": {},
     "output_type": "execute_result"
    }
   ],
   "source": [
    "df[['CodAsignatura', 'NomAsignatura']] = df['Asignatura'].str.split(' - ', expand=True)\n",
    "df.head()"
   ]
  },
  {
   "cell_type": "code",
   "execution_count": 12,
   "id": "8a0320d2",
   "metadata": {},
   "outputs": [],
   "source": [
    "df.to_csv(\"..\\\\Data\\\\Extraidos\\\\ciclo_asignatura.csv\",sep=\";\",encoding=\"utf-8-sig\",index=False)"
   ]
  }
 ],
 "metadata": {
  "kernelspec": {
   "display_name": "base",
   "language": "python",
   "name": "python3"
  },
  "language_info": {
   "codemirror_mode": {
    "name": "ipython",
    "version": 3
   },
   "file_extension": ".py",
   "mimetype": "text/x-python",
   "name": "python",
   "nbconvert_exporter": "python",
   "pygments_lexer": "ipython3",
   "version": "3.13.5"
  }
 },
 "nbformat": 4,
 "nbformat_minor": 5
}
