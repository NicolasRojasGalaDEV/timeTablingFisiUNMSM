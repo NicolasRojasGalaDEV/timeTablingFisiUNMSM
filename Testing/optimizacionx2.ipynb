{
 "cells": [
  {
   "cell_type": "markdown",
   "id": "5e66f23e",
   "metadata": {},
   "source": [
    "# Ejemplo Algoritmo Genético"
   ]
  },
  {
   "cell_type": "code",
   "execution_count": 1,
   "id": "fb98e2ff",
   "metadata": {},
   "outputs": [],
   "source": [
    "import random"
   ]
  },
  {
   "cell_type": "code",
   "execution_count": 2,
   "id": "ef9f8985",
   "metadata": {},
   "outputs": [],
   "source": [
    "def fitness(x):\n",
    "    return x ** 2  # Queremos minimizar esto"
   ]
  },
  {
   "cell_type": "code",
   "execution_count": 3,
   "id": "543a513f",
   "metadata": {},
   "outputs": [],
   "source": [
    "def seleccionar_padres(poblacion):\n",
    "    return sorted(poblacion, key=fitness)[:2]\n"
   ]
  },
  {
   "cell_type": "code",
   "execution_count": 4,
   "id": "0f3e5640",
   "metadata": {},
   "outputs": [],
   "source": [
    "\n",
    "def crossover(padre1, padre2):\n",
    "    return (padre1 + padre2) / 2\n"
   ]
  },
  {
   "cell_type": "code",
   "execution_count": 5,
   "id": "6709454f",
   "metadata": {},
   "outputs": [],
   "source": [
    "\n",
    "def mutar(hijo, tasa_mutacion=0.1):\n",
    "    if random.random() < tasa_mutacion:\n",
    "        return hijo + random.uniform(-1, 1)\n",
    "    return hijo\n"
   ]
  },
  {
   "cell_type": "code",
   "execution_count": 6,
   "id": "82e7119e",
   "metadata": {},
   "outputs": [
    {
     "data": {
      "text/plain": [
       "[2.4861618422472773,\n",
       " 4.704775213826924,\n",
       " 2.0654198904193617,\n",
       " -3.543116128859687,\n",
       " 3.133600795826476,\n",
       " 7.0498653045995745,\n",
       " 0.09630344019634052,\n",
       " 4.472299732839849,\n",
       " -3.3109877205201466,\n",
       " -2.1776436175128744]"
      ]
     },
     "execution_count": 6,
     "metadata": {},
     "output_type": "execute_result"
    }
   ],
   "source": [
    "poblacion = [random.uniform(-10, 10) for _ in range(10)]\n",
    "poblacion"
   ]
  },
  {
   "cell_type": "code",
   "execution_count": 7,
   "id": "09339d59",
   "metadata": {},
   "outputs": [],
   "source": [
    "\n",
    "def algoritmo_genetico(poblacion):\n",
    "    \n",
    "    for generacion in range(20):\n",
    "        padres = seleccionar_padres(poblacion)\n",
    "        hijos = []\n",
    "\n",
    "        for _ in range(len(poblacion)):\n",
    "            hijo = crossover(padres[0], padres[1])\n",
    "            hijo = mutar(hijo)\n",
    "            hijos.append(hijo)\n",
    "        \n",
    "        poblacion = hijos\n",
    "\n",
    "    mejor = min(poblacion, key=fitness)\n",
    "    print(f\"GA - Mejor solución: x = {mejor:.4f}, f(x) = {fitness(mejor):.4f}\")"
   ]
  },
  {
   "cell_type": "code",
   "execution_count": 8,
   "id": "478369d0",
   "metadata": {},
   "outputs": [
    {
     "name": "stdout",
     "output_type": "stream",
     "text": [
      "GA - Mejor solución: x = 0.0787, f(x) = 0.0062\n"
     ]
    }
   ],
   "source": [
    "algoritmo_genetico(poblacion)"
   ]
  },
  {
   "cell_type": "markdown",
   "id": "a8bfae27",
   "metadata": {},
   "source": [
    "# Ejemplo Algoritmo Tabú"
   ]
  },
  {
   "cell_type": "code",
   "execution_count": 9,
   "id": "12061e70",
   "metadata": {},
   "outputs": [],
   "source": [
    "#import random\n"
   ]
  },
  {
   "cell_type": "code",
   "execution_count": 10,
   "id": "5b2f2d7a",
   "metadata": {},
   "outputs": [],
   "source": [
    "\n",
    "def fitness(x):\n",
    "    return x ** 2  # Minimizar esto"
   ]
  },
  {
   "cell_type": "code",
   "execution_count": 11,
   "id": "3367db85",
   "metadata": {},
   "outputs": [],
   "source": [
    "\n",
    "def vecinos(x):\n",
    "    return [x + dx for dx in [-1, 1, -0.5, 0.5]]  # Vecinos simples"
   ]
  },
  {
   "cell_type": "code",
   "execution_count": 12,
   "id": "7e2a8791",
   "metadata": {},
   "outputs": [
    {
     "data": {
      "text/plain": [
       "-4.131953742634944"
      ]
     },
     "execution_count": 12,
     "metadata": {},
     "output_type": "execute_result"
    }
   ],
   "source": [
    "solucion_actual = random.uniform(-10, 10)\n",
    "solucion_actual"
   ]
  },
  {
   "cell_type": "code",
   "execution_count": 13,
   "id": "bdf4c773",
   "metadata": {},
   "outputs": [
    {
     "data": {
      "text/plain": [
       "[-5.131953742634944,\n",
       " -3.131953742634944,\n",
       " -4.631953742634944,\n",
       " -3.631953742634944]"
      ]
     },
     "execution_count": 13,
     "metadata": {},
     "output_type": "execute_result"
    }
   ],
   "source": [
    "vecinos(solucion_actual)"
   ]
  },
  {
   "cell_type": "code",
   "execution_count": 14,
   "id": "a18a6ab2",
   "metadata": {},
   "outputs": [],
   "source": [
    "\n",
    "def algoritmo_tabu(solucion_actual):\n",
    "    mejor_solucion = solucion_actual\n",
    "    tabu_list = []\n",
    "    max_tabu = 5\n",
    "\n",
    "    for _ in range(20):\n",
    "        candidatos = [v for v in vecinos(solucion_actual) if v not in tabu_list]\n",
    "        if not candidatos:\n",
    "            break\n",
    "\n",
    "        solucion_actual = min(candidatos, key=fitness)\n",
    "\n",
    "        if fitness(solucion_actual) < fitness(mejor_solucion):\n",
    "            mejor_solucion = solucion_actual\n",
    "\n",
    "        tabu_list.append(solucion_actual)\n",
    "        if len(tabu_list) > max_tabu:\n",
    "            tabu_list.pop(0)\n",
    "\n",
    "    print(f\"TA - Mejor solución: x = {mejor_solucion:.4f}, f(x) = {fitness(mejor_solucion):.4f}\")"
   ]
  },
  {
   "cell_type": "code",
   "execution_count": 15,
   "id": "10fd5752",
   "metadata": {},
   "outputs": [
    {
     "name": "stdout",
     "output_type": "stream",
     "text": [
      "TA - Mejor solución: x = -0.1320, f(x) = 0.0174\n"
     ]
    }
   ],
   "source": [
    "algoritmo_tabu(solucion_actual)"
   ]
  }
 ],
 "metadata": {
  "kernelspec": {
   "display_name": "base",
   "language": "python",
   "name": "python3"
  },
  "language_info": {
   "codemirror_mode": {
    "name": "ipython",
    "version": 3
   },
   "file_extension": ".py",
   "mimetype": "text/x-python",
   "name": "python",
   "nbconvert_exporter": "python",
   "pygments_lexer": "ipython3",
   "version": "3.13.5"
  }
 },
 "nbformat": 4,
 "nbformat_minor": 5
}
